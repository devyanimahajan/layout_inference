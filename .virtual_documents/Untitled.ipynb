import pandas as pd
import numpy as np
import seaborn as sns
import matplotlib as plt


df = pd.read_csv("data.csv")


df.head()


df.info()


cat_cols = df.select_dtypes(include=["object"]).columns
for col in cat_cols:
    print(df[col].value_counts())
    print('-----------------------------------')


df.describe(include = 'all')



