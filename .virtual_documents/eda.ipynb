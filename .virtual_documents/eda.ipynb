import pandas as pd
import matplotlib.pyplot as plt
import seaborn as sns
from collections import Counter
from itertools import combinations


df = pd.read_csv("data.csv")


df.head()


print("Basic info:")
print(df.info())
print()
print("\nSummary stats:")
print(df.describe(include='all'))


cat_cols = df.select_dtypes(include=["object"]).columns
for col in cat_cols:
    print(df[col].value_counts())
    print('-----------------------------------')


df['Timestamp'] = pd.to_datetime(df['Timestamp'])


print("\nUnique Customers:", df['CustomerID'].nunique())
print("Total Transactions:", df['TransactionID'].nunique())


df['NumProducts'] = df['Products'].apply(lambda x: len(x.split(',')))
plt.figure(figsize=(8,5))
sns.histplot(df['NumProducts'], bins=20, kde=False)
plt.title("Distribution of Basket Sizes")
plt.xlabel("Number of Products")
plt.ylabel("Frequency")
plt.show()


all_products = df['Products'].str.split(', ').sum()
product_counts = Counter(all_products)


top_products = pd.DataFrame(product_counts.most_common(20), columns=['Product', 'Count'])
plt.figure(figsize=(10,6))
sns.barplot(y='Product', x='Count', data=top_products)
plt.title("Top 20 Products")
plt.xlabel("Count")
plt.ylabel("Product")
plt.show()


daily_tx = df.groupby(df['Timestamp'].dt.date).size()
plt.figure(figsize=(12,6))
daily_tx.plot()
plt.title("Transactions Over Time")
plt.xlabel("Date")
plt.ylabel("Number of Transactions")
plt.xticks(rotation=45)
plt.show()


top15 = [p for p, c in product_counts.most_common(15)]
import numpy as np
co_occurrence = pd.DataFrame(0, index=top15, columns=top15)
for products in df['Products']:
    items = [p.strip() for p in products.split(',') if p.strip() in top15]
    for p1, p2 in combinations(items, 2):
        co_occurrence.loc[p1, p2] += 1
        co_occurrence.loc[p2, p1] += 1

plt.figure(figsize=(10,8))
sns.heatmap(co_occurrence, annot=True, cmap="Blues")
plt.title("Product Co-occurrence Heatmap")
plt.show()
